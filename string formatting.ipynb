{
 "cells": [
  {
   "cell_type": "code",
   "execution_count": 1,
   "metadata": {},
   "outputs": [
    {
     "name": "stdout",
     "output_type": "stream",
     "text": [
      "My name is Jenn and I am 23 years old.\n"
     ]
    }
   ],
   "source": [
    "person = {'name': 'Jenn', 'age': 23}\n",
    "\n",
    "sentence = 'My name is ' + person['name'] + ' and I am ' + str(person['age']) + ' years old.'\n",
    "print(sentence)"
   ]
  },
  {
   "cell_type": "code",
   "execution_count": 2,
   "metadata": {},
   "outputs": [
    {
     "name": "stdout",
     "output_type": "stream",
     "text": [
      "My name is Jenn and I am 23 years old.\n"
     ]
    }
   ],
   "source": [
    "sentence = 'My name is {} and I am {} years old.'.format(person['name'], person['age'])\n",
    "print(sentence)"
   ]
  },
  {
   "cell_type": "code",
   "execution_count": 3,
   "metadata": {},
   "outputs": [
    {
     "name": "stdout",
     "output_type": "stream",
     "text": [
      "My name is Jenn and I am 23 years old.\n"
     ]
    }
   ],
   "source": [
    "sentence = 'My name is {0} and I am {1} years old.'.format(person['name'], person['age'])\n",
    "print(sentence)"
   ]
  },
  {
   "cell_type": "code",
   "execution_count": 4,
   "metadata": {},
   "outputs": [
    {
     "name": "stdout",
     "output_type": "stream",
     "text": [
      "<h1>This is a headline</h1>\n"
     ]
    }
   ],
   "source": [
    "tag = 'h1'\n",
    "text = 'This is a headline'\n",
    "\n",
    "sentence = '<{0}>{1}</{0}>'.format(tag, text)\n",
    "print(sentence)"
   ]
  },
  {
   "cell_type": "code",
   "execution_count": 5,
   "metadata": {},
   "outputs": [
    {
     "name": "stdout",
     "output_type": "stream",
     "text": [
      "My name is Jenn and I am 23 years old.\n"
     ]
    }
   ],
   "source": [
    "sentence = 'My name is {0} and I am {1} years old.'.format(person['name'], person['age'])\n",
    "print(sentence)"
   ]
  },
  {
   "cell_type": "code",
   "execution_count": 6,
   "metadata": {},
   "outputs": [
    {
     "name": "stdout",
     "output_type": "stream",
     "text": [
      "My name is Jack and I am 33 years old.\n"
     ]
    }
   ],
   "source": [
    "class Person():\n",
    "\n",
    "    def __init__(self, name, age):\n",
    "        self.name = name\n",
    "        self.age = age\n",
    "\n",
    "p1 = Person('Jack', '33')\n",
    "\n",
    "sentence = 'My name is {0.name} and I am {0.age} years old.'.format(p1)\n",
    "print(sentence)"
   ]
  },
  {
   "cell_type": "code",
   "execution_count": 7,
   "metadata": {},
   "outputs": [
    {
     "name": "stdout",
     "output_type": "stream",
     "text": [
      "My name is Jenn and I am 30 years old.\n"
     ]
    }
   ],
   "source": [
    "sentence = 'My name is {name} and I am {age} years old.'.format(name='Jenn', age='30')\n",
    "print(sentence)"
   ]
  },
  {
   "cell_type": "code",
   "execution_count": 9,
   "metadata": {},
   "outputs": [
    {
     "name": "stdout",
     "output_type": "stream",
     "text": [
      "My name is Jenn and I am 23 years old.\n"
     ]
    }
   ],
   "source": [
    "sentence = 'My name is {name} and I am {age} years old.'.format(**person)\n",
    "print(sentence)"
   ]
  },
  {
   "cell_type": "code",
   "execution_count": 10,
   "metadata": {},
   "outputs": [
    {
     "name": "stdout",
     "output_type": "stream",
     "text": [
      "The value is 1\n",
      "The value is 2\n",
      "The value is 3\n",
      "The value is 4\n",
      "The value is 5\n",
      "The value is 6\n",
      "The value is 7\n",
      "The value is 8\n",
      "The value is 9\n",
      "The value is 10\n"
     ]
    }
   ],
   "source": [
    "for i in range(1, 11):\n",
    "    sentence = 'The value is {}'.format(i)\n",
    "    print(sentence)"
   ]
  },
  {
   "cell_type": "code",
   "execution_count": 11,
   "metadata": {},
   "outputs": [
    {
     "name": "stdout",
     "output_type": "stream",
     "text": [
      "Pi is equal to 3.14159265\n"
     ]
    }
   ],
   "source": [
    "pi = 3.14159265\n",
    "\n",
    "sentence = 'Pi is equal to {}'.format(pi)\n",
    "\n",
    "print(sentence)"
   ]
  },
  {
   "cell_type": "code",
   "execution_count": 12,
   "metadata": {},
   "outputs": [
    {
     "name": "stdout",
     "output_type": "stream",
     "text": [
      "Pi is equal to 3.142\n"
     ]
    }
   ],
   "source": [
    "sentence = 'Pi is equal to {:.3f}'.format(pi)\n",
    "\n",
    "print(sentence)"
   ]
  },
  {
   "cell_type": "code",
   "execution_count": 13,
   "metadata": {},
   "outputs": [
    {
     "name": "stdout",
     "output_type": "stream",
     "text": [
      "1 MB is equal to 1000000 bytes\n"
     ]
    }
   ],
   "source": [
    "sentence = '1 MB is equal to {} bytes'.format(1000**2)\n",
    "\n",
    "print(sentence)"
   ]
  },
  {
   "cell_type": "code",
   "execution_count": 15,
   "metadata": {},
   "outputs": [
    {
     "name": "stdout",
     "output_type": "stream",
     "text": [
      "1 MB is equal to 1,000,000.000 bytes\n"
     ]
    }
   ],
   "source": [
    "sentence = '1 MB is equal to {:,.3f} bytes'.format(1000**2)\n",
    "\n",
    "print(sentence)"
   ]
  },
  {
   "cell_type": "code",
   "execution_count": 16,
   "metadata": {},
   "outputs": [
    {
     "name": "stdout",
     "output_type": "stream",
     "text": [
      "2016-09-24 12:30:45\n"
     ]
    }
   ],
   "source": [
    "import datetime\n",
    "\n",
    "my_date = datetime.datetime(2016, 9, 24, 12, 30, 45)\n",
    "\n",
    "print(my_date)"
   ]
  },
  {
   "cell_type": "code",
   "execution_count": 17,
   "metadata": {},
   "outputs": [
    {
     "name": "stdout",
     "output_type": "stream",
     "text": [
      "September 24, 2016\n"
     ]
    }
   ],
   "source": [
    "sentence = '{:%B %d, %Y}'.format(my_date)\n",
    "\n",
    "print(sentence)"
   ]
  },
  {
   "cell_type": "code",
   "execution_count": 19,
   "metadata": {},
   "outputs": [
    {
     "name": "stdout",
     "output_type": "stream",
     "text": [
      "September 24, 2016 fell on a 2016-09-24 12:30:45 and was the 2016-09-24 12:30:45 day of the year\n"
     ]
    }
   ],
   "source": [
    "# March 01, 2016 fell on a Tuesday and was the 061 day of the year.\n",
    "\n",
    "sentence = '{0:%B %d, %Y} fell on a {0} and was the {0} day of the year'.format(my_date)\n",
    "\n",
    "print(sentence)"
   ]
  },
  {
   "cell_type": "markdown",
   "metadata": {},
   "source": []
  },
  {
   "cell_type": "code",
   "execution_count": null,
   "metadata": {},
   "outputs": [],
   "source": []
  }
 ],
 "metadata": {
  "kernelspec": {
   "display_name": "Python 3",
   "language": "python",
   "name": "python3"
  },
  "language_info": {
   "codemirror_mode": {
    "name": "ipython",
    "version": 3
   },
   "file_extension": ".py",
   "mimetype": "text/x-python",
   "name": "python",
   "nbconvert_exporter": "python",
   "pygments_lexer": "ipython3",
   "version": "3.7.3"
  }
 },
 "nbformat": 4,
 "nbformat_minor": 4
}
