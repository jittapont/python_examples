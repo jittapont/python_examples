{
 "cells": [
  {
   "cell_type": "code",
   "execution_count": 30,
   "metadata": {},
   "outputs": [],
   "source": [
    "from abc import ABC, abstractmethod\n",
    "import logging\n",
    "import logging.config\n",
    "from pathlib import Path\n",
    "from typing import Dict, Any, Optional\n",
    "import json"
   ]
  },
  {
   "cell_type": "code",
   "execution_count": 26,
   "metadata": {},
   "outputs": [],
   "source": [
    "class Logger(ABC):\n",
    "    @abstractmethod\n",
    "    def debug(self):\n",
    "        pass\n",
    "\n",
    "    @abstractmethod\n",
    "    def info(self):\n",
    "        pass\n",
    "\n",
    "    @abstractmethod\n",
    "    def warning(self):\n",
    "        pass\n",
    "\n",
    "    @abstractmethod\n",
    "    def error(self):\n",
    "        pass\n",
    "\n",
    "    @abstractmethod\n",
    "    def exception(self):\n",
    "        pass"
   ]
  },
  {
   "cell_type": "code",
   "execution_count": 27,
   "metadata": {},
   "outputs": [],
   "source": [
    "class DefaultLogger(Logger):\n",
    "    def __init__(self, logger_name: Optional[str] = None) -> None:\n",
    "        if logger_name is None:\n",
    "            self.logger = logging.getLogger(__name__)\n",
    "        else:\n",
    "            self.logger = logging.getLogger(logger_name)\n",
    "\n",
    "    def debug(self, msg: str) -> None:\n",
    "        self.logger.debug(msg)\n",
    "\n",
    "    def info(self, msg: str) -> None:\n",
    "        self.logger.info(msg)\n",
    "\n",
    "    def warning(self, msg: str) -> None:\n",
    "        self.logger.warning(msg)\n",
    "\n",
    "    def error(self, msg: str) -> None:\n",
    "        self.logger.error(msg)\n",
    "\n",
    "    def exception(self, msg: str) -> None:\n",
    "        self.logger.exception(msg)"
   ]
  },
  {
   "cell_type": "code",
   "execution_count": 28,
   "metadata": {},
   "outputs": [],
   "source": [
    "class CustomLogger(Logger):\n",
    "    def __init__(\n",
    "        self,\n",
    "        log_file_name: str,\n",
    "        log_folder: Path,\n",
    "        config: Dict[str, Any],\n",
    "        logger_name: str,\n",
    "    ) -> None:\n",
    "        if not log_folder.exists():\n",
    "            log_folder.mkdir()\n",
    "        config[\"handlers\"][\"file_handler\"][\"filename\"] = str(\n",
    "            log_folder\n",
    "            / config[\"handlers\"][\"file_handler\"][\"filename\"].format(\n",
    "                filename=log_file_name\n",
    "            )\n",
    "        )\n",
    "        logging.config.dictConfig(config)\n",
    "        self.logger = logging.getLogger(logger_name)\n",
    "\n",
    "    def debug(self, msg: str) -> None:\n",
    "        self.logger.debug(msg)\n",
    "\n",
    "    def info(self, msg: str) -> None:\n",
    "        self.logger.info(msg)\n",
    "\n",
    "    def warning(self, msg: str) -> None:\n",
    "        self.logger.warning(msg)\n",
    "\n",
    "    def error(self, msg: str) -> None:\n",
    "        self.logger.error(msg)\n",
    "\n",
    "    def exception(self, msg: str) -> None:\n",
    "        self.logger.exception(msg)"
   ]
  },
  {
   "cell_type": "code",
   "execution_count": 29,
   "metadata": {},
   "outputs": [],
   "source": [
    "class FakeLogger(Logger):\n",
    "    def __init__(self, logger_name: Optional[str] = None) -> None:\n",
    "        if logger_name is None:\n",
    "            self.logger = logging.getLogger(__name__)\n",
    "        else:\n",
    "            self.logger = logging.getLogger(logger_name)\n",
    "\n",
    "    def debug(self, msg: str) -> None:\n",
    "        print(f\"Fake logger debug method is called with {repr(msg)}\")\n",
    "\n",
    "    def info(self, msg: str) -> None:\n",
    "        print(f\"Fake logger info method is called with {repr(msg)}\")\n",
    "\n",
    "    def warning(self, msg: str) -> None:\n",
    "        print(f\"Fake logger warning method is called with {repr(msg)}\")\n",
    "\n",
    "    def error(self, msg: str) -> None:\n",
    "        print(f\"Fake logger error method is called with {repr(msg)}\")\n",
    "\n",
    "    def exception(self, msg: str) -> None:\n",
    "        print(f\"Fake logger exception method is called with {repr(msg)}\")"
   ]
  },
  {
   "cell_type": "code",
   "execution_count": 14,
   "metadata": {},
   "outputs": [],
   "source": [
    "logger = FakeLogger()"
   ]
  },
  {
   "cell_type": "code",
   "execution_count": 15,
   "metadata": {},
   "outputs": [
    {
     "name": "stdout",
     "output_type": "stream",
     "text": [
      "Fake logger debug method is called with 'Hello this is debug message'\n"
     ]
    }
   ],
   "source": [
    "logger.debug(\"Hello this is debug message\")"
   ]
  },
  {
   "cell_type": "code",
   "execution_count": 16,
   "metadata": {},
   "outputs": [
    {
     "name": "stdout",
     "output_type": "stream",
     "text": [
      "Fake logger info method is called with 'Hello this is info message'\n"
     ]
    }
   ],
   "source": [
    "logger.info(\"Hello this is info message\")"
   ]
  },
  {
   "cell_type": "code",
   "execution_count": 17,
   "metadata": {},
   "outputs": [
    {
     "name": "stdout",
     "output_type": "stream",
     "text": [
      "Fake logger error method is called with 'Hello this is error message'\n"
     ]
    }
   ],
   "source": [
    "logger.error(\"Hello this is error message\")"
   ]
  },
  {
   "cell_type": "code",
   "execution_count": 18,
   "metadata": {},
   "outputs": [
    {
     "name": "stdout",
     "output_type": "stream",
     "text": [
      "Fake logger exception method is called with \"Error -> ZeroDivisionError('division by zero')\"\n"
     ]
    }
   ],
   "source": [
    "try:\n",
    "    1/0\n",
    "except Exception as e:\n",
    "    logger.exception(f\"Error -> {repr(e)}\")"
   ]
  },
  {
   "cell_type": "code",
   "execution_count": 19,
   "metadata": {},
   "outputs": [
    {
     "data": {
      "text/plain": [
       "{'version': 1,\n",
       " 'disable_existing_loggers': False,\n",
       " 'formatters': {'simple': {'format': '%(asctime)s - %(name)s - %(levelname)s : %(message)s'}},\n",
       " 'handlers': {'console': {'class': 'logging.StreamHandler',\n",
       "   'level': 'DEBUG',\n",
       "   'formatter': 'simple',\n",
       "   'stream': 'ext://sys.stdout'},\n",
       "  'file_handler': {'class': 'logging.handlers.RotatingFileHandler',\n",
       "   'level': 'DEBUG',\n",
       "   'formatter': 'simple',\n",
       "   'filename': '{filename}.log',\n",
       "   'maxBytes': 209715200,\n",
       "   'backupCount': 10,\n",
       "   'encoding': 'utf8'}},\n",
       " 'loggers': {'__main__': {'level': 'DEBUG',\n",
       "   'handlers': ['console', 'file_handler'],\n",
       "   'propagate': False}},\n",
       " 'root': {'level': 'INFO', 'handlers': ['console']}}"
      ]
     },
     "execution_count": 19,
     "metadata": {},
     "output_type": "execute_result"
    }
   ],
   "source": [
    "with open(\"logging.json\", \"r\") as f:\n",
    "    logging_configs = json.load(f)\n",
    "logging_configs"
   ]
  },
  {
   "cell_type": "code",
   "execution_count": 20,
   "metadata": {},
   "outputs": [],
   "source": [
    "logger = CustomLogger(\"mylog\", Path(), logging_configs, __name__)"
   ]
  },
  {
   "cell_type": "code",
   "execution_count": 21,
   "metadata": {},
   "outputs": [
    {
     "name": "stdout",
     "output_type": "stream",
     "text": [
      "2020-06-27 21:30:51,899 - __main__ - DEBUG : Hello this is debug message\n"
     ]
    }
   ],
   "source": [
    "logger.debug(\"Hello this is debug message\")"
   ]
  },
  {
   "cell_type": "code",
   "execution_count": 22,
   "metadata": {},
   "outputs": [
    {
     "name": "stdout",
     "output_type": "stream",
     "text": [
      "2020-06-27 21:30:53,658 - __main__ - INFO : Hello this is info message\n"
     ]
    }
   ],
   "source": [
    "logger.info(\"Hello this is info message\")"
   ]
  },
  {
   "cell_type": "code",
   "execution_count": 23,
   "metadata": {},
   "outputs": [
    {
     "name": "stdout",
     "output_type": "stream",
     "text": [
      "2020-06-27 21:30:54,666 - __main__ - ERROR : Hello this is error message\n"
     ]
    }
   ],
   "source": [
    "logger.error(\"Hello this is error message\")"
   ]
  },
  {
   "cell_type": "code",
   "execution_count": 24,
   "metadata": {},
   "outputs": [
    {
     "name": "stdout",
     "output_type": "stream",
     "text": [
      "2020-06-27 21:30:55,789 - __main__ - ERROR : Error -> ZeroDivisionError('division by zero')\n",
      "Traceback (most recent call last):\n",
      "  File \"<ipython-input-24-f4cae4c95746>\", line 2, in <module>\n",
      "    1/0\n",
      "ZeroDivisionError: division by zero\n"
     ]
    }
   ],
   "source": [
    "try:\n",
    "    1/0\n",
    "except Exception as e:\n",
    "    logger.exception(f\"Error -> {repr(e)}\")"
   ]
  }
 ],
 "metadata": {
  "kernelspec": {
   "display_name": "Python 3",
   "language": "python",
   "name": "python3"
  },
  "language_info": {
   "codemirror_mode": {
    "name": "ipython",
    "version": 3
   },
   "file_extension": ".py",
   "mimetype": "text/x-python",
   "name": "python",
   "nbconvert_exporter": "python",
   "pygments_lexer": "ipython3",
   "version": "3.7.3"
  }
 },
 "nbformat": 4,
 "nbformat_minor": 4
}
