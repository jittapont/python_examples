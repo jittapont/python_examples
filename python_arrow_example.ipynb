{
  "nbformat": 4,
  "nbformat_minor": 0,
  "metadata": {
    "colab": {
      "name": "python-arrow-example.ipynb",
      "provenance": [],
      "collapsed_sections": [],
      "authorship_tag": "ABX9TyPhyfTOAmt/YOt/xV0JZQVG",
      "include_colab_link": true
    },
    "kernelspec": {
      "name": "python3",
      "display_name": "Python 3"
    }
  },
  "cells": [
    {
      "cell_type": "markdown",
      "metadata": {
        "id": "view-in-github",
        "colab_type": "text"
      },
      "source": [
        "<a href=\"https://colab.research.google.com/github/jittapont/python_examples/blob/master/python_arrow_example.ipynb\" target=\"_parent\"><img src=\"https://colab.research.google.com/assets/colab-badge.svg\" alt=\"Open In Colab\"/></a>"
      ]
    },
    {
      "cell_type": "markdown",
      "metadata": {
        "id": "mkJoQnaeI_In",
        "colab_type": "text"
      },
      "source": [
        "# Install library"
      ]
    },
    {
      "cell_type": "code",
      "metadata": {
        "id": "g9yaiol2_nCJ",
        "colab_type": "code",
        "colab": {
          "base_uri": "https://localhost:8080/",
          "height": 136
        },
        "outputId": "e5786077-f3bd-408b-cb4b-58b860ba9046"
      },
      "source": [
        "!pip install arrow"
      ],
      "execution_count": null,
      "outputs": [
        {
          "output_type": "stream",
          "text": [
            "Collecting arrow\n",
            "\u001b[?25l  Downloading https://files.pythonhosted.org/packages/ed/d2/aa994f2d8dd442113c753041761dc0732a35def05538de48f61adb28642a/arrow-0.16.0-py2.py3-none-any.whl (50kB)\n",
            "\r\u001b[K     |██████▌                         | 10kB 17.7MB/s eta 0:00:01\r\u001b[K     |█████████████                   | 20kB 3.0MB/s eta 0:00:01\r\u001b[K     |███████████████████▋            | 30kB 4.2MB/s eta 0:00:01\r\u001b[K     |██████████████████████████▏     | 40kB 4.4MB/s eta 0:00:01\r\u001b[K     |████████████████████████████████| 51kB 2.4MB/s \n",
            "\u001b[?25hRequirement already satisfied: python-dateutil>=2.7.0 in /usr/local/lib/python3.6/dist-packages (from arrow) (2.8.1)\n",
            "Requirement already satisfied: six>=1.5 in /usr/local/lib/python3.6/dist-packages (from python-dateutil>=2.7.0->arrow) (1.15.0)\n",
            "Installing collected packages: arrow\n",
            "Successfully installed arrow-0.16.0\n"
          ],
          "name": "stdout"
        }
      ]
    },
    {
      "cell_type": "markdown",
      "metadata": {
        "id": "he5WZqxGJNBy",
        "colab_type": "text"
      },
      "source": [
        "# Example"
      ]
    },
    {
      "cell_type": "code",
      "metadata": {
        "id": "rzY9Z5soJL_N",
        "colab_type": "code",
        "colab": {}
      },
      "source": [
        "import arrow\n",
        "import datetime"
      ],
      "execution_count": 31,
      "outputs": []
    },
    {
      "cell_type": "code",
      "metadata": {
        "id": "XIhqfQTD0nqP",
        "colab_type": "code",
        "colab": {
          "base_uri": "https://localhost:8080/",
          "height": 34
        },
        "outputId": "26a55ee2-2d9f-4de3-83ae-393248434dcb"
      },
      "source": [
        "# Get current utc tim\n",
        "utc_now = arrow.utcnow()\n",
        "utc_now"
      ],
      "execution_count": 24,
      "outputs": [
        {
          "output_type": "execute_result",
          "data": {
            "text/plain": [
              "<Arrow [2020-08-25T10:34:34.661287+00:00]>"
            ]
          },
          "metadata": {
            "tags": []
          },
          "execution_count": 24
        }
      ]
    },
    {
      "cell_type": "code",
      "metadata": {
        "id": "PhdXnB9bETRG",
        "colab_type": "code",
        "colab": {
          "base_uri": "https://localhost:8080/",
          "height": 35
        },
        "outputId": "4405a86a-cc1f-42c8-9fae-39dc8021e390"
      },
      "source": [
        "# Get RFC3339 format\n",
        "utc_now.format(arrow.FORMAT_RFC3339)"
      ],
      "execution_count": 26,
      "outputs": [
        {
          "output_type": "execute_result",
          "data": {
            "application/vnd.google.colaboratory.intrinsic+json": {
              "type": "string"
            },
            "text/plain": [
              "'2020-08-25 10:34:34+00:00'"
            ]
          },
          "metadata": {
            "tags": []
          },
          "execution_count": 26
        }
      ]
    },
    {
      "cell_type": "code",
      "metadata": {
        "id": "BGW9tWsvEfU_",
        "colab_type": "code",
        "colab": {
          "base_uri": "https://localhost:8080/",
          "height": 34
        },
        "outputId": "06740fd8-ef61-4032-c77b-55fa9f8cbf9e"
      },
      "source": [
        "# Get current local timezone\n",
        "local_tz_now = arrow.now(\"Asia/Bangkok\")\n",
        "local_tz_now"
      ],
      "execution_count": 29,
      "outputs": [
        {
          "output_type": "execute_result",
          "data": {
            "text/plain": [
              "<Arrow [2020-08-25T17:36:31.070323+07:00]>"
            ]
          },
          "metadata": {
            "tags": []
          },
          "execution_count": 29
        }
      ]
    },
    {
      "cell_type": "code",
      "metadata": {
        "id": "UXIvyao9Qde6",
        "colab_type": "code",
        "colab": {
          "base_uri": "https://localhost:8080/",
          "height": 34
        },
        "outputId": "66cb5673-5e2e-4d3f-f593-5c031091462c"
      },
      "source": [
        "# Convert between timezone\n",
        "local_tz_now.to('utc')"
      ],
      "execution_count": 70,
      "outputs": [
        {
          "output_type": "execute_result",
          "data": {
            "text/plain": [
              "<Arrow [2020-08-25T10:36:31.070323+00:00]>"
            ]
          },
          "metadata": {
            "tags": []
          },
          "execution_count": 70
        }
      ]
    },
    {
      "cell_type": "code",
      "metadata": {
        "id": "HNi6O9bWQdhW",
        "colab_type": "code",
        "colab": {
          "base_uri": "https://localhost:8080/",
          "height": 34
        },
        "outputId": "dbea55e5-fb0d-4ceb-b955-7dac0cbbfa44"
      },
      "source": [
        "# Move forward and backward\n",
        "local_tz_now.shift(hours=-5)"
      ],
      "execution_count": 72,
      "outputs": [
        {
          "output_type": "execute_result",
          "data": {
            "text/plain": [
              "<Arrow [2020-08-25T12:36:31.070323+07:00]>"
            ]
          },
          "metadata": {
            "tags": []
          },
          "execution_count": 72
        }
      ]
    },
    {
      "cell_type": "code",
      "metadata": {
        "id": "MqC6K6KPQdlk",
        "colab_type": "code",
        "colab": {
          "base_uri": "https://localhost:8080/",
          "height": 35
        },
        "outputId": "553138b0-19f1-4340-9b24-fb40baf4e666"
      },
      "source": [
        "# Arrow datetime to human time\n",
        "local_tz_now.humanize(locale='th')"
      ],
      "execution_count": 76,
      "outputs": [
        {
          "output_type": "execute_result",
          "data": {
            "application/vnd.google.colaboratory.intrinsic+json": {
              "type": "string"
            },
            "text/plain": [
              "'21 นาที ที่ผ่านมา'"
            ]
          },
          "metadata": {
            "tags": []
          },
          "execution_count": 76
        }
      ]
    },
    {
      "cell_type": "code",
      "metadata": {
        "id": "Vkh6dbCcMHu2",
        "colab_type": "code",
        "colab": {
          "base_uri": "https://localhost:8080/",
          "height": 34
        },
        "outputId": "e31af2f5-680a-4aa8-f0a2-aab8587ea876"
      },
      "source": [
        "# Python native date object\n",
        "today = datetime.date.today()\n",
        "today"
      ],
      "execution_count": 35,
      "outputs": [
        {
          "output_type": "execute_result",
          "data": {
            "text/plain": [
              "datetime.date(2020, 8, 25)"
            ]
          },
          "metadata": {
            "tags": []
          },
          "execution_count": 35
        }
      ]
    },
    {
      "cell_type": "code",
      "metadata": {
        "id": "rVfsEUmlNKVb",
        "colab_type": "code",
        "colab": {
          "base_uri": "https://localhost:8080/",
          "height": 34
        },
        "outputId": "106f9100-c170-44f4-b642-5fbec871f831"
      },
      "source": [
        "# Convert from python date to arrow\n",
        "arrow.get(today)"
      ],
      "execution_count": 34,
      "outputs": [
        {
          "output_type": "execute_result",
          "data": {
            "text/plain": [
              "<Arrow [2020-08-25T00:00:00+00:00]>"
            ]
          },
          "metadata": {
            "tags": []
          },
          "execution_count": 34
        }
      ]
    },
    {
      "cell_type": "code",
      "metadata": {
        "id": "Xkh3TrbzNZRQ",
        "colab_type": "code",
        "colab": {
          "base_uri": "https://localhost:8080/",
          "height": 34
        },
        "outputId": "3c076402-d36b-4167-e768-96d4b55220ec"
      },
      "source": [
        "some_day = datetime.date(2020, 8, 22)\n",
        "some_day"
      ],
      "execution_count": 38,
      "outputs": [
        {
          "output_type": "execute_result",
          "data": {
            "text/plain": [
              "datetime.date(2020, 8, 22)"
            ]
          },
          "metadata": {
            "tags": []
          },
          "execution_count": 38
        }
      ]
    },
    {
      "cell_type": "code",
      "metadata": {
        "id": "baZW73TFNkXG",
        "colab_type": "code",
        "colab": {}
      },
      "source": [
        "some_day_arrow = arrow.get(some_day)\n",
        "assert some_day_arrow == arrow.Arrow(2020, 8, 22)"
      ],
      "execution_count": 40,
      "outputs": []
    },
    {
      "cell_type": "code",
      "metadata": {
        "id": "qR0GeOA_N1VW",
        "colab_type": "code",
        "colab": {
          "base_uri": "https://localhost:8080/",
          "height": 34
        },
        "outputId": "59b915df-dd2e-403d-ce87-64b041598fb4"
      },
      "source": [
        "some_dt = datetime.datetime(2020, 8, 22, 12, 45, 3)\n",
        "some_dt"
      ],
      "execution_count": 44,
      "outputs": [
        {
          "output_type": "execute_result",
          "data": {
            "text/plain": [
              "datetime.datetime(2020, 8, 22, 12, 45, 3)"
            ]
          },
          "metadata": {
            "tags": []
          },
          "execution_count": 44
        }
      ]
    },
    {
      "cell_type": "code",
      "metadata": {
        "id": "5nS6VHpiN1YV",
        "colab_type": "code",
        "colab": {
          "base_uri": "https://localhost:8080/",
          "height": 34
        },
        "outputId": "4abec549-d031-471d-b93e-14976442deff"
      },
      "source": [
        "arrow.get(some_dt, 'Asia/Bangkok')"
      ],
      "execution_count": 53,
      "outputs": [
        {
          "output_type": "execute_result",
          "data": {
            "text/plain": [
              "<Arrow [2020-08-22T12:45:03+07:00]>"
            ]
          },
          "metadata": {
            "tags": []
          },
          "execution_count": 53
        }
      ]
    },
    {
      "cell_type": "code",
      "metadata": {
        "id": "8YNpOFW3N1bv",
        "colab_type": "code",
        "colab": {
          "base_uri": "https://localhost:8080/",
          "height": 34
        },
        "outputId": "b76f8aa3-1da7-4dcf-d4fd-92f656bc61df"
      },
      "source": [
        "# Get unix time in utc\n",
        "unix_time = utc_now.timestamp\n",
        "unix_time"
      ],
      "execution_count": 55,
      "outputs": [
        {
          "output_type": "execute_result",
          "data": {
            "text/plain": [
              "1598351674"
            ]
          },
          "metadata": {
            "tags": []
          },
          "execution_count": 55
        }
      ]
    },
    {
      "cell_type": "code",
      "metadata": {
        "id": "J2pzLt0iN1em",
        "colab_type": "code",
        "colab": {
          "base_uri": "https://localhost:8080/",
          "height": 34
        },
        "outputId": "c9fa869b-4d1d-4744-a3de-d1e0f0bf6cb2"
      },
      "source": [
        "# Convert back from unixtime to arrow datetime\n",
        "arrow.Arrow.fromtimestamp(unix_time)"
      ],
      "execution_count": 63,
      "outputs": [
        {
          "output_type": "execute_result",
          "data": {
            "text/plain": [
              "<Arrow [2020-08-25T10:34:34+00:00]>"
            ]
          },
          "metadata": {
            "tags": []
          },
          "execution_count": 63
        }
      ]
    },
    {
      "cell_type": "code",
      "metadata": {
        "id": "1XAFsJuLN1ho",
        "colab_type": "code",
        "colab": {
          "base_uri": "https://localhost:8080/",
          "height": 34
        },
        "outputId": "8093d0ac-aee9-4bd8-f828-4ca925187150"
      },
      "source": [
        "(local_tz_now - utc_now).total_seconds()"
      ],
      "execution_count": 68,
      "outputs": [
        {
          "output_type": "execute_result",
          "data": {
            "text/plain": [
              "116.409036"
            ]
          },
          "metadata": {
            "tags": []
          },
          "execution_count": 68
        }
      ]
    },
    {
      "cell_type": "code",
      "metadata": {
        "id": "m7TQaCzCN1kZ",
        "colab_type": "code",
        "colab": {}
      },
      "source": [
        ""
      ],
      "execution_count": null,
      "outputs": []
    }
  ]
}